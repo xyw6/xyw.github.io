{
 "cells": [
  {
   "cell_type": "code",
   "execution_count": 3,
   "metadata": {},
   "outputs": [],
   "source": [
    "import numpy as np\n",
    "import random\n",
    "from PIL import Image\n",
    "im = Image.open('elder.jpg').convert('L')\n",
    "X = np.array(im)\n",
    "d, n = X.shape"
   ]
  },
  {
   "cell_type": "code",
   "execution_count": 4,
   "metadata": {},
   "outputs": [],
   "source": [
    "k, alpha = int(0.15 * d) + 1, 0.3\n",
    "S = X.T[random.sample(range(n), int(alpha * n))]"
   ]
  },
  {
   "cell_type": "code",
   "execution_count": 11,
   "metadata": {},
   "outputs": [],
   "source": [
    "m_max = 13\n",
    "XS = [X.dot(np.random.normal(loc=0.0, scale=1, size=(n, m_max))) ** 2 + X.dot(np.random.normal(loc=0.0, scale=1, size=(n, m_max))) ** 2 for _ in range(k)]\n",
    "XS = [np.sqrt(i) for i in XS]"
   ]
  },
  {
   "cell_type": "code",
   "execution_count": 14,
   "metadata": {
    "scrolled": false
   },
   "outputs": [
    {
     "name": "stdout",
     "output_type": "stream",
     "text": [
      "NMF via OPU:\n",
      "t =  1\n",
      "Squared Error: 2980527.318902525\n",
      "t =  2\n",
      "Squared Error: 2120073.5904159187\n",
      "t =  3\n",
      "Squared Error: 2261749.3266899674\n",
      "t =  4\n",
      "Squared Error: 2230119.1610115375\n",
      "t =  5\n",
      "Squared Error: 2093730.812196142\n",
      "t =  6\n",
      "Squared Error: 2217346.438053477\n",
      "t =  7\n",
      "Squared Error: 1943104.243740218\n",
      "t =  8\n",
      "Squared Error: 2032956.400258094\n",
      "t =  9\n",
      "Squared Error: 1912040.6269805778\n",
      "t =  10\n",
      "Squared Error: 1714831.0590467146\n",
      "t =  11\n",
      "Squared Error: 1795950.362027059\n",
      "t =  12\n",
      "Squared Error: 1778998.3020501265\n",
      "t =  13\n",
      "Squared Error: 1554115.7837754241\n"
     ]
    }
   ],
   "source": [
    "print('NMF via OPU:')\n",
    "for m in range(1, m_max + 1):\n",
    "    print('t = ', m)\n",
    "    Q, QT, W = np.zeros((d, 0)), np.zeros((0, d)), np.zeros((d, 0))\n",
    "    for i in range(k):\n",
    "        r = XS[i][:, :m]\n",
    "        rr = r - Q.dot(QT.dot(r))\n",
    "        rr = rr / np.sqrt(np.sum(rr ** 2, axis = 0))\n",
    "        j = np.argmax(np.sum(S.dot(rr) ** 2, axis = 0))\n",
    "        r, rr = r[:, j], rr[:, j]\n",
    "        Q, QT, W = np.c_[Q, rr], np.r_[QT, rr.reshape(1, -1)], np.c_[W, r / np.sqrt(np.sum(r ** 2))]\n",
    "    H, XX = np.zeros((k, n)), X.copy()\n",
    "    for i in range(k - 1, -1, -1):\n",
    "        q, w = QT[i], W[:, i]\n",
    "        h = q.dot(XX) / np.sum(w * q)\n",
    "        XX = XX - w.reshape(-1, 1).dot(h.reshape(1, -1))\n",
    "        H[i] = h\n",
    "    print('Squared Error:', np.sum((XX) ** 2))"
   ]
  },
  {
   "cell_type": "code",
   "execution_count": 16,
   "metadata": {
    "scrolled": true
   },
   "outputs": [
    {
     "name": "stdout",
     "output_type": "stream",
     "text": [
      "# of iter:  0 , error: 1392905406.1700153\n",
      "# of iter:  50 , error: 18184394.694487754\n",
      "# of iter:  100 , error: 7256699.162163172\n",
      "# of iter:  150 , error: 4789084.845749097\n",
      "# of iter:  200 , error: 3579386.069888514\n",
      "# of iter:  250 , error: 2843786.712617522\n",
      "# of iter:  300 , error: 2363316.573945705\n",
      "# of iter:  350 , error: 2032025.40318692\n",
      "# of iter:  400 , error: 1793670.603745045\n",
      "# of iter:  450 , error: 1616800.3836268855\n"
     ]
    }
   ],
   "source": [
    "def multiplication_update(V, r, k, e):\n",
    "    m, n = V.shape\n",
    "    W, H = np.random.random((m, r)), np.random.random((r, n))\n",
    "    num_iter = 0\n",
    "    for x in range (k):\n",
    "        V_pre = W.dot(H)\n",
    "        E = V - V_pre\n",
    "        err = np.sum(E ** 2)\n",
    "        if num_iter % 50 == 0:\n",
    "            print('# of iter: ',x, ', error:', err)\n",
    "        if err < e:\n",
    "            break\n",
    "        num_iter += 1\n",
    "        a = W.T.dot(V)\n",
    "        b = W.T.dot(W.dot(H))\n",
    "        H = H * a / b\n",
    "        c = V.dot(H.T)\n",
    "        d = W.dot(H.dot(H.T))\n",
    "        W = W * c / d\n",
    "    return W,H\n",
    "W, H = multiplication_update(X, k, 1000, np.sum((XX) ** 2))"
   ]
  }
 ],
 "metadata": {
  "kernelspec": {
   "display_name": "Python 3",
   "language": "python",
   "name": "python3"
  },
  "language_info": {
   "codemirror_mode": {
    "name": "ipython",
    "version": 3
   },
   "file_extension": ".py",
   "mimetype": "text/x-python",
   "name": "python",
   "nbconvert_exporter": "python",
   "pygments_lexer": "ipython3",
   "version": "3.7.3"
  }
 },
 "nbformat": 4,
 "nbformat_minor": 4
}
