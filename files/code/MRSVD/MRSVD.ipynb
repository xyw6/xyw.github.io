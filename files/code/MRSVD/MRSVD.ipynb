{
 "cells": [
  {
   "cell_type": "code",
   "execution_count": 1,
   "metadata": {},
   "outputs": [],
   "source": [
    "import numpy as np\n",
    "import random\n",
    "from PIL import Image\n",
    "im = Image.open('elder.jpg').convert('L')\n",
    "im.show()\n",
    "X = np.array(im)\n",
    "d, n = X.shape"
   ]
  },
  {
   "cell_type": "code",
   "execution_count": 2,
   "metadata": {},
   "outputs": [],
   "source": [
    "k, alpha = d // 10, 0.3\n",
    "S = X.T[random.sample(range(n), int(alpha * n))]"
   ]
  },
  {
   "cell_type": "code",
   "execution_count": 3,
   "metadata": {},
   "outputs": [
    {
     "name": "stdout",
     "output_type": "stream",
     "text": [
      "TSVD:\n",
      "Squared Error: 1712336.3186744584\n"
     ]
    }
   ],
   "source": [
    "u, s, v = np.linalg.svd(X)\n",
    "Xk = np.dot(u[:, :k], np.diag(s[:k])).dot(v[:k, :])\n",
    "print('TSVD:')\n",
    "print('Squared Error:', np.sum((X - Xk) ** 2))\n",
    "Image.fromarray(Xk).show()"
   ]
  },
  {
   "cell_type": "code",
   "execution_count": 57,
   "metadata": {},
   "outputs": [],
   "source": [
    "p, m_max = k // 2, 9\n",
    "XR = [X.dot(np.random.normal(loc=0.0, scale=1, size=(n, m_max))) for _ in range(k + p)]\n",
    "XS = [i ** 2 for i in XR]\n",
    "for i in range(k + p):\n",
    "    XS[i] += X.dot(np.random.normal(loc=0.0, scale=1, size=(n, m_max))) ** 2\n",
    "    XS[i] = np.sqrt(XS[i])"
   ]
  },
  {
   "cell_type": "code",
   "execution_count": 47,
   "metadata": {},
   "outputs": [
    {
     "name": "stdout",
     "output_type": "stream",
     "text": [
      "RSVD:\n",
      "Squared Error: 3256180.35286838\n"
     ]
    }
   ],
   "source": [
    "#RSVD\n",
    "Q, QT = np.zeros((d, 0)), np.zeros((0, d))\n",
    "for i in range(k + p):\n",
    "    r = XR[i][:,0]\n",
    "    r = r - Q.dot(QT.dot(r))\n",
    "    r = r / np.sqrt(np.sum(r ** 2))\n",
    "    Q, QT = np.c_[Q, r], np.r_[QT, r.reshape(1, -1)]\n",
    "u, s, v = np.linalg.svd(QT.dot(X))\n",
    "Xk = Q.dot(np.dot(u[:, :k], np.diag(s[:k])).dot(v[:k, :]))\n",
    "print('RSVD:')\n",
    "print('Squared Error:', np.sum((X - Xk) ** 2))\n",
    "Image.fromarray(Xk).show()"
   ]
  },
  {
   "cell_type": "code",
   "execution_count": 61,
   "metadata": {
    "scrolled": false
   },
   "outputs": [
    {
     "name": "stdout",
     "output_type": "stream",
     "text": [
      "MRSVD:\n",
      "t =  1\n",
      "Squared Error: 4039858.0809650593\n",
      "t =  2\n",
      "Squared Error: 3147272.9663205426\n",
      "t =  3\n",
      "Squared Error: 3254434.5383791327\n",
      "t =  4\n",
      "Squared Error: 2963505.658683114\n",
      "t =  5\n",
      "Squared Error: 2907612.8688382395\n",
      "t =  6\n",
      "Squared Error: 2765283.1994445394\n",
      "t =  7\n",
      "Squared Error: 2755148.8433170957\n",
      "t =  8\n",
      "Squared Error: 2703270.496020624\n",
      "t =  9\n",
      "Squared Error: 2560305.0784847336\n"
     ]
    }
   ],
   "source": [
    "print('MRSVD:')\n",
    "for m in range(1, m_max + 1):\n",
    "    Q, QT = np.zeros((d, 0)), np.zeros((0, d))\n",
    "    for i in range(k + p):\n",
    "        r = XS[i][:, :m]\n",
    "        r = r - Q.dot(QT.dot(r))\n",
    "        r = r / np.sqrt(np.sum(r ** 2, axis = 0))\n",
    "        r = r[:, np.argmax(np.sum(S.dot(r) ** 2, axis = 0))]\n",
    "        Q, QT = np.c_[Q, r], np.r_[QT, r.reshape(1, -1)]\n",
    "    u, s, v = np.linalg.svd(QT.dot(X))\n",
    "    Xk = Q.dot(np.dot(u[:, :k], np.diag(s[:k])).dot(v[:k, :]))\n",
    "    print('t = ', m)\n",
    "    print('Squared Error:', np.sum((X - Xk) ** 2))\n",
    "Image.fromarray(Xk).show()"
   ]
  }
 ],
 "metadata": {
  "kernelspec": {
   "display_name": "Python 3",
   "language": "python",
   "name": "python3"
  },
  "language_info": {
   "codemirror_mode": {
    "name": "ipython",
    "version": 3
   },
   "file_extension": ".py",
   "mimetype": "text/x-python",
   "name": "python",
   "nbconvert_exporter": "python",
   "pygments_lexer": "ipython3",
   "version": "3.8.3"
  }
 },
 "nbformat": 4,
 "nbformat_minor": 4
}
